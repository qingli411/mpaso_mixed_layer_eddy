{
 "cells": [
  {
   "cell_type": "markdown",
   "metadata": {},
   "source": [
    "# Mixed layer eddy init\n",
    "\n",
    "This notebook visualizes the initial fields in the mixed layer eddy case."
   ]
  },
  {
   "cell_type": "code",
   "execution_count": null,
   "metadata": {},
   "outputs": [],
   "source": [
    "%matplotlib inline\n",
    "from mle import *"
   ]
  },
  {
   "cell_type": "code",
   "execution_count": null,
   "metadata": {},
   "outputs": [],
   "source": [
    "casename = 'single_front'\n",
    "inputfile = os.path.join(os.environ['HOME'], 'scratch', 'mpas', 'ocean',\n",
    "                        'mixed_layer_eddy', '0.6km',\n",
    "                        casename, 'init', 'ocean.nc')\n",
    "mpas_data = MPASOData(filepath=inputfile, filepath_mesh=inputfile)\n",
    "print(mpas_data)"
   ]
  },
  {
   "cell_type": "code",
   "execution_count": null,
   "metadata": {},
   "outputs": [],
   "source": [
    "if casename == 'single_front':\n",
    "    levelsa = np.linspace(13.8, 15.8, 21)\n",
    "    levelsb = np.linspace(15.81, 16.23, 43)\n",
    "    bottomdepth = -300\n",
    "elif casename == 'double_front':\n",
    "    levelsa = np.linspace(15.25, 16, 16)\n",
    "    levelsb = np.linspace(16.01, 16.32, 32)\n",
    "    bottomdepth = -100\n",
    "levels = np.concatenate((levelsa, levelsb))\n",
    "var = 'temperature'\n",
    "label = '$T$ ($^\\circ$C)'\n",
    "tidx = 0\n",
    "\n",
    "fig = plot_overview(mpas_data, var, levels, label, bottomdepth=bottomdepth)\n",
    "figname = casename+'_'+var+'_init.png'\n",
    "fig.savefig(figname, dpi = 300)"
   ]
  },
  {
   "cell_type": "code",
   "execution_count": null,
   "metadata": {},
   "outputs": [],
   "source": []
  }
 ],
 "metadata": {
  "kernelspec": {
   "display_name": "mpas",
   "language": "python",
   "name": "mpas"
  },
  "language_info": {
   "codemirror_mode": {
    "name": "ipython",
    "version": 3
   },
   "file_extension": ".py",
   "mimetype": "text/x-python",
   "name": "python",
   "nbconvert_exporter": "python",
   "pygments_lexer": "ipython3",
   "version": "3.8.12"
  }
 },
 "nbformat": 4,
 "nbformat_minor": 2
}
