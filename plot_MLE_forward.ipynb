{
 "cells": [
  {
   "cell_type": "markdown",
   "metadata": {},
   "source": [
    "# Mixed layer eddy forward\n",
    "\n",
    "This notebook visualizes the output fields in the mixed layer eddy case."
   ]
  },
  {
   "cell_type": "code",
   "execution_count": null,
   "metadata": {},
   "outputs": [],
   "source": [
    "%matplotlib inline\n",
    "from mle import *"
   ]
  },
  {
   "cell_type": "code",
   "execution_count": null,
   "metadata": {},
   "outputs": [],
   "source": [
    "casename = 'single_front'\n",
    "inputfile = os.path.join(os.environ['HOME'], 'scratch', 'mpas', 'ocean',\n",
    "                         'mixed_layer_eddy', '0.6km',\n",
    "                         casename, 'forward', 'output', 'output.0001-01-01.nc')\n",
    "mpas_data = MPASOData(filepath=inputfile, filepath_mesh=inputfile)\n",
    "print(mpas_data)"
   ]
  },
  {
   "cell_type": "code",
   "execution_count": null,
   "metadata": {},
   "outputs": [],
   "source": [
    "if casename == 'single_front':\n",
    "    levels = np.linspace(-3e-4, 3e-4, 61)\n",
    "elif casename == 'double_front':\n",
    "    levels = np.lionspace(-2e-4, 2e-4, 81)\n",
    "var = 'relativeVorticityCell'\n",
    "label = '$\\zeta/f$'\n",
    "tidx = -1\n",
    "def format_over_f(value, tick_number):\n",
    "    f = mpas_data.dataset.fCell[0].values\n",
    "    return '{:4.2f}'.format(value/f)\n",
    "\n",
    "fig = plot_overview(mpas_data, var, levels, label, tidx, labelcolor='k', formater=format_over_f, cmap='RdBu_r')"
   ]
  },
  {
   "cell_type": "code",
   "execution_count": null,
   "metadata": {},
   "outputs": [],
   "source": [
    "if casename == 'single_front':\n",
    "    levelsa = np.linspace(13.8, 15.8, 21)\n",
    "    levelsb = np.linspace(15.81, 16.23, 43)\n",
    "    bottomdepth = -300\n",
    "elif casename == 'double_front':\n",
    "    levelsa = np.linspace(15.25, 16, 16)\n",
    "    levelsb = np.linspace(16.01, 16.32, 32)\n",
    "    bottomdepth = -100\n",
    "levels = np.concatenate((levelsa, levelsb))\n",
    "var = 'temperature'\n",
    "label = '$T$ ($^\\circ$C)'\n",
    "tidx = -1\n",
    "\n",
    "fig = plot_overview(mpas_data, var, levels, label, tidx, bottomdepth=bottomdepth)"
   ]
  },
  {
   "cell_type": "code",
   "execution_count": null,
   "metadata": {},
   "outputs": [],
   "source": [
    "if casename == 'single_front':\n",
    "    bottomdepth = -300\n",
    "elif casename == 'double_front':\n",
    "    bottomdepth = -100\n",
    "levels = np.linspace(34, 36, 21)\n",
    "var = 'salinity'\n",
    "label = 'PSU'\n",
    "tidx = -1\n",
    "\n",
    "fig = plot_overview(mpas_data, var, levels, label, tidx, bottomdepth=bottomdepth)"
   ]
  },
  {
   "cell_type": "code",
   "execution_count": null,
   "metadata": {},
   "outputs": [],
   "source": [
    "levels = None\n",
    "var = 'velocityZonal'\n",
    "label = 'm/s'\n",
    "tidx = -1\n",
    "\n",
    "fig = plot_overview(mpas_data, var, levels, label, tidx, cmap='RdBu_r', bottomdepth=bottomdepth)"
   ]
  },
  {
   "cell_type": "code",
   "execution_count": null,
   "metadata": {},
   "outputs": [],
   "source": []
  }
 ],
 "metadata": {
  "kernelspec": {
   "display_name": "mpas",
   "language": "python",
   "name": "mpas"
  },
  "language_info": {
   "codemirror_mode": {
    "name": "ipython",
    "version": 3
   },
   "file_extension": ".py",
   "mimetype": "text/x-python",
   "name": "python",
   "nbconvert_exporter": "python",
   "pygments_lexer": "ipython3",
   "version": "3.8.12"
  }
 },
 "nbformat": 4,
 "nbformat_minor": 2
}
